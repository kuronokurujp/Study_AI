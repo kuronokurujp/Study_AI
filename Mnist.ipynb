{
  "nbformat": 4,
  "nbformat_minor": 0,
  "metadata": {
    "colab": {
      "name": "Mnist.ipynb",
      "provenance": [],
      "collapsed_sections": []
    },
    "kernelspec": {
      "name": "python3",
      "display_name": "Python 3"
    }
  },
  "cells": [
    {
      "cell_type": "markdown",
      "metadata": {
        "id": "MeUwhMQs8d51",
        "colab_type": "text"
      },
      "source": [
        "### ０～９の数字画像データ「MNIST」を使って画像から数字列の推測モデルを作成\n"
      ]
    },
    {
      "cell_type": "code",
      "metadata": {
        "id": "BCZI7yZX5c9M",
        "colab_type": "code",
        "colab": {}
      },
      "source": [
        "from tensorflow.keras.datasets import mnist\n",
        "from tensorflow.keras.layers import Activation, Dense, Dropout\n",
        "from tensorflow.keras.models import  Sequential\n",
        "from tensorflow.keras.optimizers import Adam\n",
        "from tensorflow.keras.utils import  to_categorical\n",
        "import numpy as np\n",
        "import matplotlib.pyplot as plt\n",
        "# notebookでmatplotlibの描画するのに下記の定義が必要\n",
        "%matplotlib inline"
      ],
      "execution_count": 0,
      "outputs": []
    },
    {
      "cell_type": "code",
      "metadata": {
        "id": "c4mL7MoU5wIb",
        "colab_type": "code",
        "outputId": "fac44881-c44b-4e48-c914-21454bae4eda",
        "colab": {
          "base_uri": "https://localhost:8080/",
          "height": 51
        }
      },
      "source": [
        "# mnistの訓練・検証データをロード\n",
        "# タプルなんだ \n",
        "# mnistの画像はすでにグレースケール化している\n",
        "# 2018年はRGBの画像で使う側がグレースケールする必要があったはずだが\n",
        "(train_images, train_labels), (test_images, test_labels) = mnist.load_data()"
      ],
      "execution_count": 0,
      "outputs": [
        {
          "output_type": "stream",
          "text": [
            "Downloading data from https://storage.googleapis.com/tensorflow/tf-keras-datasets/mnist.npz\n",
            "11493376/11490434 [==============================] - 0s 0us/step\n"
          ],
          "name": "stdout"
        }
      ]
    },
    {
      "cell_type": "code",
      "metadata": {
        "id": "gvVy9_1H6ymy",
        "colab_type": "code",
        "outputId": "8f101404-6d4e-47bf-cf23-775b7a6b291a",
        "colab": {
          "base_uri": "https://localhost:8080/",
          "height": 85
        }
      },
      "source": [
        "print(train_images.shape)\n",
        "print(train_labels.shape)\n",
        "print(test_images.shape)\n",
        "print(test_labels.shape)"
      ],
      "execution_count": 0,
      "outputs": [
        {
          "output_type": "stream",
          "text": [
            "(60000, 28, 28)\n",
            "(60000,)\n",
            "(10000, 28, 28)\n",
            "(10000,)\n"
          ],
          "name": "stdout"
        }
      ]
    },
    {
      "cell_type": "code",
      "metadata": {
        "id": "clyU0iv6-SuP",
        "colab_type": "code",
        "outputId": "fd6ad91f-0b56-4f2d-ab5b-62896bae079e",
        "colab": {
          "base_uri": "https://localhost:8080/",
          "height": 97
        }
      },
      "source": [
        "col = 10\n",
        "# グレースケールの28x28の画像データ\n",
        "for i in range(col):\n",
        "  plt.subplot(1, col, i + 1)\n",
        "  plt.imshow(train_images[i], 'gray')\n",
        "\n",
        "plt.show"
      ],
      "execution_count": 0,
      "outputs": [
        {
          "output_type": "execute_result",
          "data": {
            "text/plain": [
              "<function matplotlib.pyplot.show>"
            ]
          },
          "metadata": {
            "tags": []
          },
          "execution_count": 4
        },
        {
          "output_type": "display_data",
          "data": {
            "image/png": "[encoded data removed]",
            "text/plain": [
              "<Figure size 432x288 with 10 Axes>"
            ]
          },
          "metadata": {
            "tags": [],
            "needs_background": "light"
          }
        }
      ]
    },
    {
      "cell_type": "code",
      "metadata": {
        "id": "4nWcMcyV-5XX",
        "colab_type": "code",
        "outputId": "d770a845-b291-47e9-d9e1-1502738aa27f",
        "colab": {
          "base_uri": "https://localhost:8080/",
          "height": 34
        }
      },
      "source": [
        "print(train_labels[0:col])"
      ],
      "execution_count": 0,
      "outputs": [
        {
          "output_type": "stream",
          "text": [
            "[5 0 4 1 9 2 1 3 1 4]\n"
          ],
          "name": "stdout"
        }
      ]
    },
    {
      "cell_type": "markdown",
      "metadata": {
        "id": "ZqNtch4pCOqT",
        "colab_type": "text"
      },
      "source": [
        "データ前処理<br>\n",
        "minstをニューラルネットワークに適した形にする<br>\n",
        "これが出来ないとそもそも学習することが出来ない"
      ]
    },
    {
      "cell_type": "code",
      "metadata": {
        "id": "pI6QlG6gCNIP",
        "colab_type": "code",
        "colab": {}
      },
      "source": [
        "# 画像は縦x横の2次元だったが、これを1次元に変換する\n",
        "# 元のデータ残す\n",
        "resshape_train_images = train_images.reshape((train_images.shape[0], train_images.shape[1] * train_images.shape[2]))\n",
        "resshape_test_images = test_images.reshape((test_images.shape[0], test_images.shape[1] * test_images.shape[2]))"
      ],
      "execution_count": 0,
      "outputs": []
    },
    {
      "cell_type": "code",
      "metadata": {
        "id": "jqOGOjkuC1Ds",
        "colab_type": "code",
        "outputId": "12909672-b66d-46df-ad62-ceebb69cdce1",
        "colab": {
          "base_uri": "https://localhost:8080/",
          "height": 51
        }
      },
      "source": [
        "print(resshape_train_images.shape)\n",
        "print(resshape_test_images.shape)"
      ],
      "execution_count": 0,
      "outputs": [
        {
          "output_type": "stream",
          "text": [
            "(60000, 784)\n",
            "(10000, 784)\n"
          ],
          "name": "stdout"
        }
      ]
    },
    {
      "cell_type": "code",
      "metadata": {
        "id": "2XEBOnBYDNWm",
        "colab_type": "code",
        "colab": {}
      },
      "source": [
        "# ラベルデータをone-hot表現にする\n",
        "# 元のデータは残す\n",
        "onehot_train_labels = to_categorical(train_labels)\n",
        "onehot_test_labels = to_categorical(test_labels)"
      ],
      "execution_count": 0,
      "outputs": []
    },
    {
      "cell_type": "code",
      "metadata": {
        "id": "W75zj6RkFXFi",
        "colab_type": "code",
        "outputId": "377f101d-c1d1-44ea-fe46-9909107db1ef",
        "colab": {
          "base_uri": "https://localhost:8080/",
          "height": 51
        }
      },
      "source": [
        "print(onehot_train_labels.shape)\n",
        "print(onehot_test_labels.shape)"
      ],
      "execution_count": 0,
      "outputs": [
        {
          "output_type": "stream",
          "text": [
            "(60000, 10)\n",
            "(10000, 10)\n"
          ],
          "name": "stdout"
        }
      ]
    },
    {
      "cell_type": "code",
      "metadata": {
        "id": "7oGYBHdgFbEf",
        "colab_type": "code",
        "outputId": "367969cf-9790-4501-92dd-3a7114cd8d1f",
        "colab": {
          "base_uri": "https://localhost:8080/",
          "height": 51
        }
      },
      "source": [
        "print(onehot_train_labels[0])\n",
        "print(train_labels[0])"
      ],
      "execution_count": 0,
      "outputs": [
        {
          "output_type": "stream",
          "text": [
            "[0. 0. 0. 0. 0. 1. 0. 0. 0. 0.]\n",
            "5\n"
          ],
          "name": "stdout"
        }
      ]
    },
    {
      "cell_type": "markdown",
      "metadata": {
        "id": "wzXS3LFHxpSX",
        "colab_type": "text"
      },
      "source": [
        "モデルを作る"
      ]
    },
    {
      "cell_type": "code",
      "metadata": {
        "id": "qmjGIAP3xvmz",
        "colab_type": "code",
        "colab": {}
      },
      "source": [
        "model = Sequential()\n",
        "model.add(Dense(256, activation='sigmoid', input_shape=(784,)))\n",
        "model.add(Dense(128, activation='sigmoid'))\n",
        "model.add(Dropout(rate=0.5))\n",
        "model.add(Dense(10, activation='softmax'))"
      ],
      "execution_count": 0,
      "outputs": []
    },
    {
      "cell_type": "markdown",
      "metadata": {
        "id": "UhPG3A4Pyhir",
        "colab_type": "text"
      },
      "source": [
        "コンパイルする"
      ]
    },
    {
      "cell_type": "code",
      "metadata": {
        "id": "-wqLCRZkyQd-",
        "colab_type": "code",
        "colab": {}
      },
      "source": [
        "model.compile(loss='categorical_crossentropy', optimizer=Adam(lr=0.001), metrics=['acc'])"
      ],
      "execution_count": 0,
      "outputs": []
    },
    {
      "cell_type": "markdown",
      "metadata": {
        "id": "dLTcjz6py486",
        "colab_type": "text"
      },
      "source": [
        "学習する"
      ]
    },
    {
      "cell_type": "code",
      "metadata": {
        "id": "sSzs0PUAyu1Y",
        "colab_type": "code",
        "outputId": "bef2e3c8-c508-42ca-9f73-c976900f12cc",
        "colab": {
          "base_uri": "https://localhost:8080/",
          "height": 357
        }
      },
      "source": [
        "histroy = model.fit(resshape_train_images, onehot_train_labels, batch_size=500, epochs=10, validation_split=0.2)"
      ],
      "execution_count": 0,
      "outputs": [
        {
          "output_type": "stream",
          "text": [
            "Epoch 1/10\n",
            "96/96 [==============================] - 2s 17ms/step - loss: 1.2540 - acc: 0.6230 - val_loss: 0.4942 - val_acc: 0.8923\n",
            "Epoch 2/10\n",
            "96/96 [==============================] - 2s 16ms/step - loss: 0.4976 - acc: 0.8695 - val_loss: 0.3144 - val_acc: 0.9157\n",
            "Epoch 3/10\n",
            "96/96 [==============================] - 2s 16ms/step - loss: 0.3775 - acc: 0.8958 - val_loss: 0.2611 - val_acc: 0.9263\n",
            "Epoch 4/10\n",
            "96/96 [==============================] - 2s 16ms/step - loss: 0.3250 - acc: 0.9089 - val_loss: 0.2347 - val_acc: 0.9313\n",
            "Epoch 5/10\n",
            "96/96 [==============================] - 2s 16ms/step - loss: 0.2927 - acc: 0.9179 - val_loss: 0.2162 - val_acc: 0.9355\n",
            "Epoch 6/10\n",
            "96/96 [==============================] - 2s 16ms/step - loss: 0.2676 - acc: 0.9243 - val_loss: 0.2029 - val_acc: 0.9415\n",
            "Epoch 7/10\n",
            "96/96 [==============================] - 2s 16ms/step - loss: 0.2582 - acc: 0.9268 - val_loss: 0.1971 - val_acc: 0.9423\n",
            "Epoch 8/10\n",
            "96/96 [==============================] - 2s 16ms/step - loss: 0.2409 - acc: 0.9310 - val_loss: 0.1858 - val_acc: 0.9457\n",
            "Epoch 9/10\n",
            "96/96 [==============================] - 2s 16ms/step - loss: 0.2285 - acc: 0.9327 - val_loss: 0.1772 - val_acc: 0.9489\n",
            "Epoch 10/10\n",
            "96/96 [==============================] - 2s 16ms/step - loss: 0.2179 - acc: 0.9373 - val_loss: 0.1758 - val_acc: 0.9473\n"
          ],
          "name": "stdout"
        }
      ]
    },
    {
      "cell_type": "code",
      "metadata": {
        "id": "KwGH6W-czLJk",
        "colab_type": "code",
        "outputId": "aabe2877-814a-4830-a9f8-ceba1064ffe1",
        "colab": {
          "base_uri": "https://localhost:8080/",
          "height": 357
        }
      },
      "source": [
        "histroy.history"
      ],
      "execution_count": 0,
      "outputs": [
        {
          "output_type": "execute_result",
          "data": {
            "text/plain": [
              "{'acc': [0.4310833215713501,\n",
              "  0.7282500267028809,\n",
              "  0.8138124942779541,\n",
              "  0.8472708463668823,\n",
              "  0.8651250004768372],\n",
              " 'loss': [1.739690899848938,\n",
              "  0.9593813419342041,\n",
              "  0.6829970479011536,\n",
              "  0.5565987825393677,\n",
              "  0.4852145314216614],\n",
              " 'val_acc': [0.8226666450500488,\n",
              "  0.8762500286102295,\n",
              "  0.8958333134651184,\n",
              "  0.909416675567627,\n",
              "  0.9134166836738586],\n",
              " 'val_loss': [1.0312424898147583,\n",
              "  0.6059310436248779,\n",
              "  0.4470650255680084,\n",
              "  0.37181589007377625,\n",
              "  0.3300892412662506]}"
            ]
          },
          "metadata": {
            "tags": []
          },
          "execution_count": 20
        }
      ]
    },
    {
      "cell_type": "code",
      "metadata": {
        "id": "20h3sfBRzdh5",
        "colab_type": "code",
        "outputId": "a8d2c213-8f3a-4b54-fb37-582f9185401c",
        "colab": {
          "base_uri": "https://localhost:8080/",
          "height": 279
        }
      },
      "source": [
        "plt.plot(histroy.history['acc'], label='acc')\n",
        "plt.plot(histroy.history['val_acc'], label='val_acc')\n",
        "plt.ylabel('accuracy')\n",
        "plt.xlabel('epoch')\n",
        "plt.legend(loc='best')\n",
        "plt.show()"
      ],
      "execution_count": 0,
      "outputs": [
        {
          "output_type": "display_data",
          "data": {
            "image/png": "[encoded data removed]",
            "text/plain": [
              "<Figure size 432x288 with 1 Axes>"
            ]
          },
          "metadata": {
            "tags": [],
            "needs_background": "light"
          }
        }
      ]
    },
    {
      "cell_type": "code",
      "metadata": {
        "id": "RofhHqw30MYW",
        "colab_type": "code",
        "outputId": "3c845816-750e-4fa2-fd53-f104b5c30e0f",
        "colab": {
          "base_uri": "https://localhost:8080/",
          "height": 68
        }
      },
      "source": [
        "test_loss, test_acc = model.evaluate(resshape_test_images, onehot_test_labels)\n",
        "print('loss: {:.3f}\\nacc: {:.3f}'.format(test_loss, test_acc))"
      ],
      "execution_count": 0,
      "outputs": [
        {
          "output_type": "stream",
          "text": [
            "313/313 [==============================] - 0s 2ms/step - loss: 0.3359 - acc: 0.9124\n",
            "loss: 0.336\n",
            "acc: 0.912\n"
          ],
          "name": "stdout"
        }
      ]
    },
    {
      "cell_type": "code",
      "metadata": {
        "id": "MK4LOadj1J1O",
        "colab_type": "code",
        "outputId": "a6bf0ae6-d264-4603-c1f0-5c0fb64296da",
        "colab": {
          "base_uri": "https://localhost:8080/",
          "height": 80
        }
      },
      "source": [
        "for i in range(10):\n",
        "  plt.subplot(1, 10, i + 1)\n",
        "  plt.imshow(test_images[i], 'gray')\n",
        "plt.show()"
      ],
      "execution_count": 0,
      "outputs": [
        {
          "output_type": "display_data",
          "data": {
            "image/png": "[encoded data removed]",
            "text/plain": [
              "<Figure size 432x288 with 10 Axes>"
            ]
          },
          "metadata": {
            "tags": [],
            "needs_background": "light"
          }
        }
      ]
    },
    {
      "cell_type": "code",
      "metadata": {
        "id": "6p4dvjjG1vIa",
        "colab_type": "code",
        "outputId": "c6f9fdc0-c03d-4ede-fa00-3dcebe4e8ef6",
        "colab": {
          "base_uri": "https://localhost:8080/",
          "height": 34
        }
      },
      "source": [
        "test_predictions = model.predict(resshape_test_images[0:10])\n",
        "test_predictions = np.argmax(test_predictions, axis=1)\n",
        "print(test_predictions)"
      ],
      "execution_count": 0,
      "outputs": [
        {
          "output_type": "stream",
          "text": [
            "[7 2 1 0 4 1 4 9 6 9]\n"
          ],
          "name": "stdout"
        }
      ]
    },
    {
      "cell_type": "code",
      "metadata": {
        "id": "An7uky9J2DO5",
        "colab_type": "code",
        "colab": {}
      },
      "source": [
        ""
      ],
      "execution_count": 0,
      "outputs": []
    }
  ]
}