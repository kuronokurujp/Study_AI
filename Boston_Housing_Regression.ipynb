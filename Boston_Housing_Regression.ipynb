{
  "nbformat": 4,
  "nbformat_minor": 0,
  "metadata": {
    "colab": {
      "name": "Boston_Housing_Regression.ipynb",
      "provenance": []
    },
    "kernelspec": {
      "name": "python3",
      "display_name": "Python 3"
    }
  },
  "cells": [
    {
      "cell_type": "markdown",
      "metadata": {
        "id": "UnOLzY9yIgu0",
        "colab_type": "text"
      },
      "source": [
        "#ニューラルネットワークで回帰分析<br>\n",
        "アメリカのボストン市についてのデータセットを元に回帰分析する"
      ]
    },
    {
      "cell_type": "code",
      "metadata": {
        "id": "Wxwkj2WfIl5a",
        "colab_type": "code",
        "colab": {}
      },
      "source": [
        "from tensorflow.keras.datasets import boston_housing\n",
        "from tensorflow.keras.layers import Activation, Dense, Dropout\n",
        "from tensorflow.keras.models import  Sequential\n",
        "from tensorflow.keras.optimizers import Adam\n",
        "from tensorflow.keras.callbacks import EarlyStopping\n",
        "import pandas as pd\n",
        "import numpy as np\n",
        "import matplotlib.pyplot as plt\n",
        "# notebookでmatplotlibの描画するのに下記の定義が必要\n",
        "%matplotlib inline"
      ],
      "execution_count": 0,
      "outputs": []
    },
    {
      "cell_type": "code",
      "metadata": {
        "id": "6JGx0xZ4JFmr",
        "colab_type": "code",
        "colab": {}
      },
      "source": [
        "# ボストン市の訓練・検証データをロード\n",
        "(train_data, train_labels), (test_data, test_labels) = boston_housing.load_data()"
      ],
      "execution_count": 0,
      "outputs": []
    },
    {
      "cell_type": "code",
      "metadata": {
        "id": "5hVBaSTWNww8",
        "colab_type": "code",
        "colab": {
          "base_uri": "https://localhost:8080/",
          "height": 85
        },
        "outputId": "3ef7084e-d0ad-4879-dc1c-722712b366e0"
      },
      "source": [
        "# 取得したデータの配列の情報\n",
        "print(train_data.shape)\n",
        "print(train_labels.shape)\n",
        "print(test_data.shape)\n",
        "print(test_labels.shape)"
      ],
      "execution_count": 9,
      "outputs": [
        {
          "output_type": "stream",
          "text": [
            "(404, 13)\n",
            "(404,)\n",
            "(102, 13)\n",
            "(102,)\n"
          ],
          "name": "stdout"
        }
      ]
    },
    {
      "cell_type": "markdown",
      "metadata": {
        "id": "Y2CvxxxeRAXP",
        "colab_type": "text"
      },
      "source": [
        "訓練データに列名を付けてテーブル表示する"
      ]
    },
    {
      "cell_type": "code",
      "metadata": {
        "id": "lnpPpo3QN7Im",
        "colab_type": "code",
        "colab": {}
      },
      "source": [
        "column_names = ['CRIN', 'ZN', 'INDUS', 'CRAS', 'NOX', 'RM', 'AGE', 'DIS', 'RAD', 'TAX', 'PTRATIO', 'B', 'LSTAT']\n",
        "df = pd.DataFrame(train_data, columns=column_names)"
      ],
      "execution_count": 0,
      "outputs": []
    },
    {
      "cell_type": "code",
      "metadata": {
        "id": "OWb_YOZkQ0z6",
        "colab_type": "code",
        "colab": {
          "base_uri": "https://localhost:8080/",
          "height": 204
        },
        "outputId": "bdf2868d-5900-42ca-a2e8-6e57efa0230f"
      },
      "source": [
        "df.head()"
      ],
      "execution_count": 12,
      "outputs": [
        {
          "output_type": "execute_result",
          "data": {
            "text/html": [
              "<div>\n",
              "<style scoped>\n",
              "    .dataframe tbody tr th:only-of-type {\n",
              "        vertical-align: middle;\n",
              "    }\n",
              "\n",
              "    .dataframe tbody tr th {\n",
              "        vertical-align: top;\n",
              "    }\n",
              "\n",
              "    .dataframe thead th {\n",
              "        text-align: right;\n",
              "    }\n",
              "</style>\n",
              "<table border=\"1\" class=\"dataframe\">\n",
              "  <thead>\n",
              "    <tr style=\"text-align: right;\">\n",
              "      <th></th>\n",
              "      <th>CRIN</th>\n",
              "      <th>ZN</th>\n",
              "      <th>INDUS</th>\n",
              "      <th>CRAS</th>\n",
              "      <th>NOX</th>\n",
              "      <th>RM</th>\n",
              "      <th>AGE</th>\n",
              "      <th>DIS</th>\n",
              "      <th>RAD</th>\n",
              "      <th>TAX</th>\n",
              "      <th>PTRATIO</th>\n",
              "      <th>B</th>\n",
              "      <th>LSTAT</th>\n",
              "    </tr>\n",
              "  </thead>\n",
              "  <tbody>\n",
              "    <tr>\n",
              "      <th>0</th>\n",
              "      <td>1.23247</td>\n",
              "      <td>0.0</td>\n",
              "      <td>8.14</td>\n",
              "      <td>0.0</td>\n",
              "      <td>0.538</td>\n",
              "      <td>6.142</td>\n",
              "      <td>91.7</td>\n",
              "      <td>3.9769</td>\n",
              "      <td>4.0</td>\n",
              "      <td>307.0</td>\n",
              "      <td>21.0</td>\n",
              "      <td>396.90</td>\n",
              "      <td>18.72</td>\n",
              "    </tr>\n",
              "    <tr>\n",
              "      <th>1</th>\n",
              "      <td>0.02177</td>\n",
              "      <td>82.5</td>\n",
              "      <td>2.03</td>\n",
              "      <td>0.0</td>\n",
              "      <td>0.415</td>\n",
              "      <td>7.610</td>\n",
              "      <td>15.7</td>\n",
              "      <td>6.2700</td>\n",
              "      <td>2.0</td>\n",
              "      <td>348.0</td>\n",
              "      <td>14.7</td>\n",
              "      <td>395.38</td>\n",
              "      <td>3.11</td>\n",
              "    </tr>\n",
              "    <tr>\n",
              "      <th>2</th>\n",
              "      <td>4.89822</td>\n",
              "      <td>0.0</td>\n",
              "      <td>18.10</td>\n",
              "      <td>0.0</td>\n",
              "      <td>0.631</td>\n",
              "      <td>4.970</td>\n",
              "      <td>100.0</td>\n",
              "      <td>1.3325</td>\n",
              "      <td>24.0</td>\n",
              "      <td>666.0</td>\n",
              "      <td>20.2</td>\n",
              "      <td>375.52</td>\n",
              "      <td>3.26</td>\n",
              "    </tr>\n",
              "    <tr>\n",
              "      <th>3</th>\n",
              "      <td>0.03961</td>\n",
              "      <td>0.0</td>\n",
              "      <td>5.19</td>\n",
              "      <td>0.0</td>\n",
              "      <td>0.515</td>\n",
              "      <td>6.037</td>\n",
              "      <td>34.5</td>\n",
              "      <td>5.9853</td>\n",
              "      <td>5.0</td>\n",
              "      <td>224.0</td>\n",
              "      <td>20.2</td>\n",
              "      <td>396.90</td>\n",
              "      <td>8.01</td>\n",
              "    </tr>\n",
              "    <tr>\n",
              "      <th>4</th>\n",
              "      <td>3.69311</td>\n",
              "      <td>0.0</td>\n",
              "      <td>18.10</td>\n",
              "      <td>0.0</td>\n",
              "      <td>0.713</td>\n",
              "      <td>6.376</td>\n",
              "      <td>88.4</td>\n",
              "      <td>2.5671</td>\n",
              "      <td>24.0</td>\n",
              "      <td>666.0</td>\n",
              "      <td>20.2</td>\n",
              "      <td>391.43</td>\n",
              "      <td>14.65</td>\n",
              "    </tr>\n",
              "  </tbody>\n",
              "</table>\n",
              "</div>"
            ],
            "text/plain": [
              "      CRIN    ZN  INDUS  CRAS    NOX  ...   RAD    TAX  PTRATIO       B  LSTAT\n",
              "0  1.23247   0.0   8.14   0.0  0.538  ...   4.0  307.0     21.0  396.90  18.72\n",
              "1  0.02177  82.5   2.03   0.0  0.415  ...   2.0  348.0     14.7  395.38   3.11\n",
              "2  4.89822   0.0  18.10   0.0  0.631  ...  24.0  666.0     20.2  375.52   3.26\n",
              "3  0.03961   0.0   5.19   0.0  0.515  ...   5.0  224.0     20.2  396.90   8.01\n",
              "4  3.69311   0.0  18.10   0.0  0.713  ...  24.0  666.0     20.2  391.43  14.65\n",
              "\n",
              "[5 rows x 13 columns]"
            ]
          },
          "metadata": {
            "tags": []
          },
          "execution_count": 12
        }
      ]
    },
    {
      "cell_type": "code",
      "metadata": {
        "id": "ndR3LBWTQ1d8",
        "colab_type": "code",
        "colab": {
          "base_uri": "https://localhost:8080/",
          "height": 34
        },
        "outputId": "76661301-91c9-4a68-debb-e092b00ba8de"
      },
      "source": [
        "print(train_labels[0:10])"
      ],
      "execution_count": 13,
      "outputs": [
        {
          "output_type": "stream",
          "text": [
            "[15.2 42.3 50.  21.1 17.7 18.5 11.3 15.6 15.6 14.4]\n"
          ],
          "name": "stdout"
        }
      ]
    },
    {
      "cell_type": "markdown",
      "metadata": {
        "id": "g7KvaNfdRcce",
        "colab_type": "text"
      },
      "source": [
        "前処理をする"
      ]
    },
    {
      "cell_type": "code",
      "metadata": {
        "id": "9KwD4GMkUnWf",
        "colab_type": "code",
        "colab": {
          "base_uri": "https://localhost:8080/",
          "height": 34
        },
        "outputId": "d4671334-6b27-46b1-c621-b270eb5e0256"
      },
      "source": [
        "# シャッフル前 \n",
        "print(train_labels[0:10])"
      ],
      "execution_count": 16,
      "outputs": [
        {
          "output_type": "stream",
          "text": [
            "[15.2 42.3 50.  21.1 17.7 18.5 11.3 15.6 15.6 14.4]\n"
          ],
          "name": "stdout"
        }
      ]
    },
    {
      "cell_type": "code",
      "metadata": {
        "id": "nl-56yGURPX5",
        "colab_type": "code",
        "colab": {}
      },
      "source": [
        "# データのシャッフル\n",
        "order = np.argsort(np.random.random(train_labels.shape))\n",
        "new_train_data = train_data[order]\n",
        "new_train_labels = train_labels[order]"
      ],
      "execution_count": 0,
      "outputs": []
    },
    {
      "cell_type": "code",
      "metadata": {
        "id": "9pBBRUuaUk-c",
        "colab_type": "code",
        "colab": {
          "base_uri": "https://localhost:8080/",
          "height": 34
        },
        "outputId": "1bc01221-fc17-4167-fc7e-7f696b453aa3"
      },
      "source": [
        "# シャッフル後\n",
        "print(new_train_labels[0:10])"
      ],
      "execution_count": 17,
      "outputs": [
        {
          "output_type": "stream",
          "text": [
            "[32.  27.5 32.  23.1 50.  20.6 22.6 36.2 21.8 19.5]\n"
          ],
          "name": "stdout"
        }
      ]
    },
    {
      "cell_type": "markdown",
      "metadata": {
        "id": "YVes7t4hVPiv",
        "colab_type": "text"
      },
      "source": [
        "データの正規化<br>\n",
        "面積、人口など各データ単位が異なるので同じ単位にするため<br>\n",
        "またデータ値を小さくする事で学習効率を上げる<br>\n",
        "生データをそのまま使うと学習効率が悪く精度が悪いようだ<br>"
      ]
    },
    {
      "cell_type": "code",
      "metadata": {
        "id": "KOnvwE18Uyvo",
        "colab_type": "code",
        "colab": {}
      },
      "source": [
        "mean = new_train_data.mean(axis=0)\n",
        "std = new_train_data.std(axis=0)\n",
        "n_train_data = (new_train_data - mean) / std\n",
        "n_test_data = (test_data - mean) / std"
      ],
      "execution_count": 0,
      "outputs": []
    },
    {
      "cell_type": "code",
      "metadata": {
        "id": "oXxQFOPIVvbs",
        "colab_type": "code",
        "colab": {
          "base_uri": "https://localhost:8080/",
          "height": 204
        },
        "outputId": "7c0b6a50-91eb-457d-aa8e-879b1b17bb35"
      },
      "source": [
        "# 正規化したデータ値のチェック\n",
        "column_names = ['CRIN', 'ZN', 'INDUS', 'CRAS', 'NOX', 'RM', 'AGE', 'DIS', 'RAD', 'TAX', 'PTRATIO', 'B', 'LSTAT']\n",
        "df = pd.DataFrame(n_train_data, columns=column_names)\n",
        "df.head()"
      ],
      "execution_count": 20,
      "outputs": [
        {
          "output_type": "execute_result",
          "data": {
            "text/html": [
              "<div>\n",
              "<style scoped>\n",
              "    .dataframe tbody tr th:only-of-type {\n",
              "        vertical-align: middle;\n",
              "    }\n",
              "\n",
              "    .dataframe tbody tr th {\n",
              "        vertical-align: top;\n",
              "    }\n",
              "\n",
              "    .dataframe thead th {\n",
              "        text-align: right;\n",
              "    }\n",
              "</style>\n",
              "<table border=\"1\" class=\"dataframe\">\n",
              "  <thead>\n",
              "    <tr style=\"text-align: right;\">\n",
              "      <th></th>\n",
              "      <th>CRIN</th>\n",
              "      <th>ZN</th>\n",
              "      <th>INDUS</th>\n",
              "      <th>CRAS</th>\n",
              "      <th>NOX</th>\n",
              "      <th>RM</th>\n",
              "      <th>AGE</th>\n",
              "      <th>DIS</th>\n",
              "      <th>RAD</th>\n",
              "      <th>TAX</th>\n",
              "      <th>PTRATIO</th>\n",
              "      <th>B</th>\n",
              "      <th>LSTAT</th>\n",
              "    </tr>\n",
              "  </thead>\n",
              "  <tbody>\n",
              "    <tr>\n",
              "      <th>0</th>\n",
              "      <td>-0.397253</td>\n",
              "      <td>1.412057</td>\n",
              "      <td>-1.126646</td>\n",
              "      <td>-0.256833</td>\n",
              "      <td>-1.027385</td>\n",
              "      <td>0.726354</td>\n",
              "      <td>-1.000164</td>\n",
              "      <td>0.023834</td>\n",
              "      <td>-0.511142</td>\n",
              "      <td>-0.047533</td>\n",
              "      <td>-1.490674</td>\n",
              "      <td>0.415841</td>\n",
              "      <td>-0.836487</td>\n",
              "    </tr>\n",
              "    <tr>\n",
              "      <th>1</th>\n",
              "      <td>0.087846</td>\n",
              "      <td>-0.483615</td>\n",
              "      <td>1.028326</td>\n",
              "      <td>-0.256833</td>\n",
              "      <td>1.371293</td>\n",
              "      <td>-3.817250</td>\n",
              "      <td>0.676891</td>\n",
              "      <td>-1.049006</td>\n",
              "      <td>1.675886</td>\n",
              "      <td>1.565287</td>\n",
              "      <td>0.784476</td>\n",
              "      <td>-0.000885</td>\n",
              "      <td>-0.775760</td>\n",
              "    </tr>\n",
              "    <tr>\n",
              "      <th>2</th>\n",
              "      <td>-0.395379</td>\n",
              "      <td>1.201427</td>\n",
              "      <td>-0.690066</td>\n",
              "      <td>-0.256833</td>\n",
              "      <td>-0.942023</td>\n",
              "      <td>0.827918</td>\n",
              "      <td>-0.939245</td>\n",
              "      <td>0.259915</td>\n",
              "      <td>-0.626249</td>\n",
              "      <td>-0.914123</td>\n",
              "      <td>-0.398602</td>\n",
              "      <td>0.448077</td>\n",
              "      <td>-1.347144</td>\n",
              "    </tr>\n",
              "    <tr>\n",
              "      <th>3</th>\n",
              "      <td>-0.403759</td>\n",
              "      <td>3.097099</td>\n",
              "      <td>-1.022279</td>\n",
              "      <td>-0.256833</td>\n",
              "      <td>-1.095675</td>\n",
              "      <td>0.351129</td>\n",
              "      <td>-1.480347</td>\n",
              "      <td>2.364762</td>\n",
              "      <td>-0.626249</td>\n",
              "      <td>-0.330379</td>\n",
              "      <td>-0.262093</td>\n",
              "      <td>0.400521</td>\n",
              "      <td>-0.880652</td>\n",
              "    </tr>\n",
              "    <tr>\n",
              "      <th>4</th>\n",
              "      <td>-0.348692</td>\n",
              "      <td>-0.483615</td>\n",
              "      <td>-0.720935</td>\n",
              "      <td>-0.256833</td>\n",
              "      <td>-0.455458</td>\n",
              "      <td>3.467186</td>\n",
              "      <td>0.501302</td>\n",
              "      <td>-0.417158</td>\n",
              "      <td>-0.165822</td>\n",
              "      <td>-0.595170</td>\n",
              "      <td>-0.489608</td>\n",
              "      <td>0.289557</td>\n",
              "      <td>-1.119419</td>\n",
              "    </tr>\n",
              "  </tbody>\n",
              "</table>\n",
              "</div>"
            ],
            "text/plain": [
              "       CRIN        ZN     INDUS  ...   PTRATIO         B     LSTAT\n",
              "0 -0.397253  1.412057 -1.126646  ... -1.490674  0.415841 -0.836487\n",
              "1  0.087846 -0.483615  1.028326  ...  0.784476 -0.000885 -0.775760\n",
              "2 -0.395379  1.201427 -0.690066  ... -0.398602  0.448077 -1.347144\n",
              "3 -0.403759  3.097099 -1.022279  ... -0.262093  0.400521 -0.880652\n",
              "4 -0.348692 -0.483615 -0.720935  ... -0.489608  0.289557 -1.119419\n",
              "\n",
              "[5 rows x 13 columns]"
            ]
          },
          "metadata": {
            "tags": []
          },
          "execution_count": 20
        }
      ]
    },
    {
      "cell_type": "markdown",
      "metadata": {
        "id": "8tkMcDU3a0ZW",
        "colab_type": "text"
      },
      "source": [
        "モデル作成"
      ]
    },
    {
      "cell_type": "code",
      "metadata": {
        "id": "qGusiYfsaOrK",
        "colab_type": "code",
        "colab": {}
      },
      "source": [
        "model = Sequential()\n",
        "model.add(Dense(64, activation='relu', input_shape=(13,)))\n",
        "model.add(Dense(64, activation='relu'))\n",
        "model.add(Dense(1))"
      ],
      "execution_count": 0,
      "outputs": []
    },
    {
      "cell_type": "markdown",
      "metadata": {
        "id": "vozHZT3xbF-w",
        "colab_type": "text"
      },
      "source": [
        "コンパイル<br>\n",
        "今回は回帰なので回帰分析に有効な関数を指定"
      ]
    },
    {
      "cell_type": "code",
      "metadata": {
        "id": "oMQP6Vm3bE25",
        "colab_type": "code",
        "colab": {}
      },
      "source": [
        "model.compile(loss='mse', optimizer=Adam(lr=0.001), metrics=['mae'])"
      ],
      "execution_count": 0,
      "outputs": []
    },
    {
      "cell_type": "markdown",
      "metadata": {
        "id": "xAVKqDHkdBbc",
        "colab_type": "text"
      },
      "source": [
        "学習"
      ]
    },
    {
      "cell_type": "code",
      "metadata": {
        "id": "TqUTi5fYbonK",
        "colab_type": "code",
        "colab": {
          "base_uri": "https://localhost:8080/",
          "height": 731
        },
        "outputId": "2af2ecc2-4017-44bb-eeb9-478bfd2c55e8"
      },
      "source": [
        "# 学習結果をコールバックで受け取り改善がない場合は終了する関数を作成\n",
        "early_stop = EarlyStopping(monitor='val_loss', patience=20)\n",
        "# 学習\n",
        "history = model.fit(n_train_data, new_train_labels, epochs=1500, validation_split=0.3, callbacks=[early_stop])"
      ],
      "execution_count": 48,
      "outputs": [
        {
          "output_type": "stream",
          "text": [
            "Epoch 1/1500\n",
            "9/9 [==============================] - 0s 6ms/step - loss: 2.8817 - mae: 1.2528 - val_loss: 10.1384 - val_mae: 2.0119\n",
            "Epoch 2/1500\n",
            "9/9 [==============================] - 0s 5ms/step - loss: 2.7729 - mae: 1.2179 - val_loss: 10.3458 - val_mae: 2.0677\n",
            "Epoch 3/1500\n",
            "9/9 [==============================] - 0s 5ms/step - loss: 2.7111 - mae: 1.2285 - val_loss: 10.2735 - val_mae: 2.0599\n",
            "Epoch 4/1500\n",
            "9/9 [==============================] - 0s 5ms/step - loss: 2.6263 - mae: 1.1987 - val_loss: 10.3008 - val_mae: 2.0773\n",
            "Epoch 5/1500\n",
            "9/9 [==============================] - 0s 5ms/step - loss: 2.6011 - mae: 1.1902 - val_loss: 10.2564 - val_mae: 2.0754\n",
            "Epoch 6/1500\n",
            "9/9 [==============================] - 0s 5ms/step - loss: 2.5850 - mae: 1.1690 - val_loss: 10.2818 - val_mae: 2.0795\n",
            "Epoch 7/1500\n",
            "9/9 [==============================] - 0s 6ms/step - loss: 2.5840 - mae: 1.1725 - val_loss: 10.3258 - val_mae: 2.0948\n",
            "Epoch 8/1500\n",
            "9/9 [==============================] - 0s 5ms/step - loss: 2.5370 - mae: 1.1684 - val_loss: 10.2690 - val_mae: 2.0746\n",
            "Epoch 9/1500\n",
            "9/9 [==============================] - 0s 5ms/step - loss: 2.6019 - mae: 1.1778 - val_loss: 10.3395 - val_mae: 2.0983\n",
            "Epoch 10/1500\n",
            "9/9 [==============================] - 0s 5ms/step - loss: 2.5765 - mae: 1.1683 - val_loss: 10.3443 - val_mae: 2.0907\n",
            "Epoch 11/1500\n",
            "9/9 [==============================] - 0s 5ms/step - loss: 2.5047 - mae: 1.1577 - val_loss: 10.2972 - val_mae: 2.1086\n",
            "Epoch 12/1500\n",
            "9/9 [==============================] - 0s 5ms/step - loss: 2.5070 - mae: 1.1663 - val_loss: 10.2839 - val_mae: 2.0932\n",
            "Epoch 13/1500\n",
            "9/9 [==============================] - 0s 6ms/step - loss: 2.4802 - mae: 1.1414 - val_loss: 10.4408 - val_mae: 2.1281\n",
            "Epoch 14/1500\n",
            "9/9 [==============================] - 0s 5ms/step - loss: 2.4741 - mae: 1.1454 - val_loss: 10.3205 - val_mae: 2.1142\n",
            "Epoch 15/1500\n",
            "9/9 [==============================] - 0s 5ms/step - loss: 2.4605 - mae: 1.1345 - val_loss: 10.4269 - val_mae: 2.1271\n",
            "Epoch 16/1500\n",
            "9/9 [==============================] - 0s 5ms/step - loss: 2.4627 - mae: 1.1492 - val_loss: 10.3032 - val_mae: 2.0974\n",
            "Epoch 17/1500\n",
            "9/9 [==============================] - 0s 5ms/step - loss: 2.4796 - mae: 1.1334 - val_loss: 10.4056 - val_mae: 2.1261\n",
            "Epoch 18/1500\n",
            "9/9 [==============================] - 0s 5ms/step - loss: 2.4941 - mae: 1.1513 - val_loss: 10.4568 - val_mae: 2.1281\n",
            "Epoch 19/1500\n",
            "9/9 [==============================] - 0s 5ms/step - loss: 2.4444 - mae: 1.1390 - val_loss: 10.3958 - val_mae: 2.1254\n",
            "Epoch 20/1500\n",
            "9/9 [==============================] - 0s 5ms/step - loss: 2.3999 - mae: 1.1224 - val_loss: 10.3286 - val_mae: 2.1152\n",
            "Epoch 21/1500\n",
            "9/9 [==============================] - 0s 5ms/step - loss: 2.4229 - mae: 1.1280 - val_loss: 10.3314 - val_mae: 2.1259\n"
          ],
          "name": "stdout"
        }
      ]
    },
    {
      "cell_type": "code",
      "metadata": {
        "id": "cy6NvCkDfFDP",
        "colab_type": "code",
        "colab": {
          "base_uri": "https://localhost:8080/",
          "height": 283
        },
        "outputId": "38bed5dd-735a-4a13-a9b4-ce453a7b7951"
      },
      "source": [
        "plt.plot(history.history['mae'], label='train mae')\n",
        "plt.plot(history.history['val_mae'], label='val_mae')\n",
        "plt.ylabel('mae [1000$]')\n",
        "plt.xlabel('epoch')\n",
        "plt.legend(loc='best')\n",
        "plt.ylim([0,5])\n",
        "plt.show()"
      ],
      "execution_count": 49,
      "outputs": [
        {
          "output_type": "display_data",
          "data": {
            "image/png": "[encoded data removed]",
            "text/plain": [
              "<Figure size 432x288 with 1 Axes>"
            ]
          },
          "metadata": {
            "tags": [],
            "needs_background": "light"
          }
        }
      ]
    },
    {
      "cell_type": "markdown",
      "metadata": {
        "id": "k-0khvgTgGfE",
        "colab_type": "text"
      },
      "source": [
        "評価"
      ]
    },
    {
      "cell_type": "code",
      "metadata": {
        "id": "i0XX0I2oflym",
        "colab_type": "code",
        "colab": {
          "base_uri": "https://localhost:8080/",
          "height": 68
        },
        "outputId": "95513146-fd9b-4b5f-997f-41d45475d626"
      },
      "source": [
        "test_loss, test_mae = model.evaluate(n_test_data, test_labels)\n",
        "print('loss: {:.3f}\\n mae: {:.3f}'.format(test_loss, test_mae))"
      ],
      "execution_count": 50,
      "outputs": [
        {
          "output_type": "stream",
          "text": [
            "4/4 [==============================] - 0s 2ms/step - loss: 15.3463 - mae: 2.5848\n",
            "loss: 15.346\n",
            " mae: 2.585\n"
          ],
          "name": "stdout"
        }
      ]
    },
    {
      "cell_type": "markdown",
      "metadata": {
        "id": "CRcFFnYigmfn",
        "colab_type": "text"
      },
      "source": [
        "推論"
      ]
    },
    {
      "cell_type": "code",
      "metadata": {
        "id": "OqpM8jnHggQw",
        "colab_type": "code",
        "colab": {
          "base_uri": "https://localhost:8080/",
          "height": 51
        },
        "outputId": "de78d52e-6917-41d3-bfe4-41fe77bddfcd"
      },
      "source": [
        "print(np.round(test_labels[0:10]))\n",
        "\n",
        "test_predictions = model.predict(n_test_data[0:10]).flatten()\n",
        "print(np.round(test_predictions))"
      ],
      "execution_count": 51,
      "outputs": [
        {
          "output_type": "stream",
          "text": [
            "[ 7. 19. 19. 27. 22. 24. 31. 23. 20. 23.]\n",
            "[ 8. 20. 22. 32. 26. 23. 27. 23. 19. 22.]\n"
          ],
          "name": "stdout"
        }
      ]
    },
    {
      "cell_type": "code",
      "metadata": {
        "id": "fewg5_9zg7ZK",
        "colab_type": "code",
        "colab": {}
      },
      "source": [
        ""
      ],
      "execution_count": 0,
      "outputs": []
    }
  ]
}