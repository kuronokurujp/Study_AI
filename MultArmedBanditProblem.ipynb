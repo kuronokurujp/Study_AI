{
  "nbformat": 4,
  "nbformat_minor": 0,
  "metadata": {
    "colab": {
      "name": "MultArmedBanditProblem.ipynb",
      "provenance": []
    },
    "kernelspec": {
      "name": "python3",
      "display_name": "Python 3"
    },
    "accelerator": "GPU"
  },
  "cells": [
    {
      "cell_type": "markdown",
      "metadata": {
        "id": "8FN2Juv1sEsM",
        "colab_type": "text"
      },
      "source": [
        "# 多腕バンディット問題を強化学習で解決\n",
        "### ε-greedyとUCB1のアルゴリズムを使う\n",
        "\n",
        "■ε-greedy<br>\n",
        "シュミレーションを繰り返すと少しずつ高い報酬を取るようになる\n",
        "グラフだと右肩上がりになる\n",
        "\n",
        "■UCB1<br>\n",
        "シュミレーションの最初から高い報酬を取ったり後になると低い報酬になったりする<br>\n",
        "グラフだとジグザクになる<br>\n",
        "しかしどの結果もε-greedyより高い報酬を得るようになる\n",
        "\n"
      ]
    },
    {
      "cell_type": "code",
      "metadata": {
        "id": "jKEC02korBsF",
        "colab_type": "code",
        "colab": {}
      },
      "source": [
        "import numpy as np\n",
        "import random\n",
        "import math\n",
        "import pandas as pd\n",
        "import matplotlib.pyplot as plt\n",
        "%matplotlib inline"
      ],
      "execution_count": 0,
      "outputs": []
    },
    {
      "cell_type": "code",
      "metadata": {
        "id": "r_DsXBzX1zdn",
        "colab_type": "code",
        "colab": {}
      },
      "source": [
        "# スロットアームの作成\n",
        "class SlotArm():\n",
        "  # 初期化\n",
        "  def __init__(self, p):\n",
        "    # コインが出る確率\n",
        "    self.p = p\n",
        "\n",
        "  # アームを選択した時の報酬の取得\n",
        "  def draw(self):\n",
        "    if self.p > random.random():\n",
        "      return 1.0\n",
        "    else:\n",
        "      return 0.0"
      ],
      "execution_count": 0,
      "outputs": []
    },
    {
      "cell_type": "code",
      "metadata": {
        "id": "DiEds6aEDV2W",
        "colab_type": "code",
        "colab": {}
      },
      "source": [
        "# ε-greedyの計算処理作成\n",
        "class EpsilonGreedy():\n",
        "  # 初期化\n",
        "  def __init__(self, epsilon):\n",
        "    # 探索する確率\n",
        "    self.epsilon = epsilon\n",
        "\n",
        "  # 試行回数、価値のリセット\n",
        "  def initialize(self, n_arms):\n",
        "    self.n = np.zeros(n_arms)\n",
        "    self.v = np.zeros(n_arms)\n",
        "\n",
        "  # アーム選択\n",
        "  def select_arm(self):\n",
        "    if self.epsilon > random.random():\n",
        "      # ランダムアームを選択\n",
        "      return np.random.randint(0, len(self.v))\n",
        "    else:\n",
        "      # 価値が高いアームを更新\n",
        "      return np.argmax(self.v)\n",
        "\n",
        "  # アルゴリズムのパラメータ更新\n",
        "  def update(self, chosen_arm, reward, t):\n",
        "    self.n[chosen_arm] += 1\n",
        "    n = self.n[chosen_arm]\n",
        "    v = self.v[chosen_arm]\n",
        "\n",
        "    self.v[chosen_arm] = ((n - 1) / float(n)) * v + (1 / float(n)) * reward\n",
        "\n",
        "  # 文字列情報の取得\n",
        "  def label(self):\n",
        "    return 'ε-greedy('+str(self.epsilon)+')'"
      ],
      "execution_count": 0,
      "outputs": []
    },
    {
      "cell_type": "code",
      "metadata": {
        "id": "VIhNAbaDg3OB",
        "colab_type": "code",
        "colab": {}
      },
      "source": [
        "# UCB1アルゴリズム\n",
        "class UCB1():\n",
        "  # 試行回数と成功回数と価値のリセット\n",
        "  def initialize(self, n_arms):\n",
        "    self.n = np.zeros(n_arms)\n",
        "    self.w = np.zeros(n_arms)\n",
        "    self.v = np.zeros(n_arms)\n",
        "\n",
        "  # アーム選択\n",
        "  def select_arm(self):\n",
        "    for i in range(len(self.n)):\n",
        "      if self.n[i] == 0:\n",
        "        return i\n",
        "\n",
        "    return np.argmax(self.v)\n",
        "\n",
        "  # パラメータ更新\n",
        "  def update(self, chosen_arm, reward, t):\n",
        "    self.n[chosen_arm] += 1\n",
        "\n",
        "    if reward == 1.0:\n",
        "      self.w[chosen_arm] += 1\n",
        "\n",
        "    for i in range(len(self.n)):\n",
        "      if self.n[i] == 0:\n",
        "        return\n",
        "\n",
        "    for i in range(len(self.v)):\n",
        "      self.v[i] = self.w[i] / self.n[i] + (2 * math.log(t) / self.n[i]) ** 0.5\n",
        "\n",
        "  # 文字列情報の取得\n",
        "  def label(self):\n",
        "    return 'ucb1'"
      ],
      "execution_count": 0,
      "outputs": []
    },
    {
      "cell_type": "code",
      "metadata": {
        "id": "pIftVWy5jQ6o",
        "colab_type": "code",
        "colab": {}
      },
      "source": [
        "# シュミレーション実行\n",
        "def play(algo, arms, num_sims, num_time):\n",
        "  # 履歴用意\n",
        "  times = np.zeros(num_sims * num_time)\n",
        "  rewards = np.zeros(num_sims * num_time)\n",
        "\n",
        "  # ループ\n",
        "  for sim in range(num_sims):\n",
        "    algo.initialize(len(arms))\n",
        "\n",
        "    # ゲーム回数\n",
        "    for time in range(num_time):\n",
        "      index = sim * num_time + time\n",
        "\n",
        "      times[index] = time + 1\n",
        "      chosen_arm = alog.select_arm()\n",
        "      reward = arms[chosen_arm].draw()\n",
        "      rewards[index] = reward\n",
        "\n",
        "      algo.update(chosen_arm, reward, time+1)\n",
        "\n",
        "  return [times, rewards]"
      ],
      "execution_count": 0,
      "outputs": []
    },
    {
      "cell_type": "code",
      "metadata": {
        "id": "raenbHs8lAA1",
        "colab_type": "code",
        "outputId": "9b7ac09e-3800-4569-8d3c-2d85990d6c84",
        "colab": {
          "base_uri": "https://localhost:8080/",
          "height": 279
        }
      },
      "source": [
        "arms = (SlotArm(0.3), SlotArm(0.5), SlotArm(0.9))\n",
        "\n",
        "alogs = (EpsilonGreedy(0.1), UCB1())\n",
        "\n",
        "for alog in alogs:\n",
        "  results = play(alog, arms, 10000, 20)\n",
        "\n",
        "  df = pd.DataFrame({'times': results[0], 'rewards': results[1]})\n",
        "  mean = df['rewards'].groupby(df['times']).mean()\n",
        "  plt.plot(mean, label=alog.label())\n",
        "\n",
        "# グラフの表示\n",
        "plt.xlabel('Step')\n",
        "plt.ylabel('Average Reward')\n",
        "plt.legend(loc='best')\n",
        "plt.show()"
      ],
      "execution_count": 0,
      "outputs": [
        {
          "output_type": "display_data",
          "data": {
            "image/png": "[encoded data removed]",
            "text/plain": [
              "<Figure size 432x288 with 1 Axes>"
            ]
          },
          "metadata": {
            "tags": [],
            "needs_background": "light"
          }
        }
      ]
    },
    {
      "cell_type": "code",
      "metadata": {
        "id": "RwRZDBDcmp_M",
        "colab_type": "code",
        "colab": {}
      },
      "source": [
        ""
      ],
      "execution_count": 0,
      "outputs": []
    }
  ]
}